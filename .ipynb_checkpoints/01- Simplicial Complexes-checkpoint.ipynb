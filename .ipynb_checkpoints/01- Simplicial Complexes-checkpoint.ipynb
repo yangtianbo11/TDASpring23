{
 "cells": [
  {
   "cell_type": "markdown",
   "metadata": {},
   "source": [
    "# From metric spaces to simplicial complexe\n",
    "\n",
    "\n",
    "The basic pipeline of TDA is summarized below:\n",
    "\n",
    "\n",
    "1- Dataset: assumed to be a finite metric space where the distance function is either induced by the metric of the ambient space (e.g., the Euclidean space) or an interensic metric (usually given by a distance matrix). \n",
    "\n",
    "2- creating a simplicial complex: Using Vitories-Rips or Céch ..., we construct a filtered simplicial complex  that reflects the topological structure of data at different scales.\n",
    "\n",
    "3- Computing persistent homology: applying the $k$th perssitence homology to the filtered simplicial complex constructed in (2) to extract the topological and geometrical features.\n",
    "\n",
    "4- Storing topological features: the extracted topological information are families of features of the data (stored as persistence diagrams or barcodes) and can be used for different tasks in data science such as visualization and classifications. In many applications, they were used as complimetry features to design machine learning modeles.\n",
    "\n",
    "\n",
    "\n",
    "In this notebook we learn how to construct a (filtered) simplicial complex from a data set and how to plot it. Lets first import the needed libraries:"
   ]
  },
  {
   "cell_type": "code",
   "execution_count": 14,
   "metadata": {},
   "outputs": [
    {
     "ename": "ModuleNotFoundError",
     "evalue": "No module named 'networkx'",
     "output_type": "error",
     "traceback": [
      "\u001b[1;31m---------------------------------------------------------------------------\u001b[0m",
      "\u001b[1;31mModuleNotFoundError\u001b[0m                       Traceback (most recent call last)",
      "Cell \u001b[1;32mIn[14], line 3\u001b[0m\n\u001b[0;32m      1\u001b[0m \u001b[38;5;28;01mimport\u001b[39;00m \u001b[38;5;21;01mnumpy\u001b[39;00m \u001b[38;5;28;01mas\u001b[39;00m \u001b[38;5;21;01mnp\u001b[39;00m\n\u001b[0;32m      2\u001b[0m \u001b[38;5;28;01mimport\u001b[39;00m \u001b[38;5;21;01mmatplotlib\u001b[39;00m\u001b[38;5;21;01m.\u001b[39;00m\u001b[38;5;21;01mpyplot\u001b[39;00m \u001b[38;5;28;01mas\u001b[39;00m \u001b[38;5;21;01mplt\u001b[39;00m\n\u001b[1;32m----> 3\u001b[0m \u001b[38;5;28;01mimport\u001b[39;00m \u001b[38;5;21;01mnetworkx\u001b[39;00m \u001b[38;5;28;01mas\u001b[39;00m \u001b[38;5;21;01mnx\u001b[39;00m\n\u001b[0;32m      5\u001b[0m \u001b[38;5;28;01mfrom\u001b[39;00m \u001b[38;5;21;01mmatplotlib\u001b[39;00m\u001b[38;5;21;01m.\u001b[39;00m\u001b[38;5;21;01mpatches\u001b[39;00m \u001b[38;5;28;01mimport\u001b[39;00m Polygon\n\u001b[0;32m      6\u001b[0m \u001b[38;5;28;01mfrom\u001b[39;00m \u001b[38;5;21;01mmatplotlib\u001b[39;00m\u001b[38;5;21;01m.\u001b[39;00m\u001b[38;5;21;01mcollections\u001b[39;00m \u001b[38;5;28;01mimport\u001b[39;00m PatchCollection\n",
      "\u001b[1;31mModuleNotFoundError\u001b[0m: No module named 'networkx'"
     ]
    }
   ],
   "source": [
    "import numpy as np\n",
    "import matplotlib.pyplot as plt\n",
    "import networkx as nx\n",
    "\n",
    "from matplotlib.patches import Polygon\n",
    "from matplotlib.collections import PatchCollection"
   ]
  },
  {
   "cell_type": "markdown",
   "metadata": {},
   "source": [
    "# Example 1:\n",
    "\n",
    "In TDA, data is assumed to be a finite metric space where the distance function is either induced by the metric of the ambient space (e.g., the Euclidean space) or an interensic metric (usually given by a distance matrix). Lets start with some points in some Eucleadian space:"
   ]
  },
  {
   "cell_type": "code",
   "execution_count": null,
   "metadata": {},
   "outputs": [],
   "source": [
    "# DATA\n",
    "\n",
    "import numpy as np\n",
    "\n",
    "def euclidean_distance(p1, p2):\n",
    "    \"\"\"Computes |.|_2 distance between two points in some R^m.\"\"\"\n",
    "    return np.sqrt(np.sum((p1 - p2)**2))\n",
    "\n",
    "def distance_matrix(points):\n",
    "    \"\"\"Computes the distance matrix for a set of points using the euclidean_distance metric.\"\"\"\n",
    "    n = len(points)\n",
    "    distance_matrix = np.zeros((n, n)) #initiate an n by n matrix\n",
    "    for i in range(n):\n",
    "        for j in range(n):\n",
    "            distance_matrix[i, j] = euclidean_distance( points[i], points[j])\n",
    "    return distance_matrix\n"
   ]
  },
  {
   "cell_type": "code",
   "execution_count": null,
   "metadata": {},
   "outputs": [],
   "source": [
    "# Example usage: \"points\" is a list of vectors in 3D space\n",
    "\n",
    "points = [\n",
    "    np.array([0, 0, 0]),\n",
    "    np.array([1, 0, 0]),\n",
    "    np.array([0, 1, 0]),\n",
    "    np.array([0, 0, 1])\n",
    "       \n",
    "]\n",
    "\n",
    "\n",
    "D = np.array(distance_matrix(points))\n",
    "print(D)\n",
    "plt.imshow(D)\n",
    "plt.show()"
   ]
  },
  {
   "cell_type": "markdown",
   "metadata": {},
   "source": [
    "## Creating a  Simplicial Complex\n",
    "\n",
    "\n",
    "Let $(X,d)$ be a metric space. For each $r \\geq 0$, define a simplicial complex $X_r = (V_r, \\Sigma_r)$, where for any $r$ the vertex set $V_r$ is $X$ and a subset $S\\subset V_r$ is a simplex if   \n",
    "\n",
    "$$ \\forall x,y\\in S \\qquad d(x,y)\\leq r\n",
    "$$\n",
    "\n",
    "Thus, the collecetion of $0$-simplices contains the elements of $X$ and the $1$-simplices form the set\n",
    "$$\n",
    "\\{\\{x_i,x_j\\} \\mid x_i,x_j \\in X, d(x_i,x_j) \\leq r\\},\n",
    "$$\n",
    "\n",
    "Let's write a function to generate such a simplicial complex of dimention 2 for each $r \\geq 0$. "
   ]
  },
  {
   "cell_type": "code",
   "execution_count": 7,
   "metadata": {},
   "outputs": [
    {
     "ename": "ModuleNotFoundError",
     "evalue": "No module named 'ripser'",
     "output_type": "error",
     "traceback": [
      "\u001b[1;31m---------------------------------------------------------------------------\u001b[0m",
      "\u001b[1;31mModuleNotFoundError\u001b[0m                       Traceback (most recent call last)",
      "Cell \u001b[1;32mIn[7], line 2\u001b[0m\n\u001b[0;32m      1\u001b[0m \u001b[38;5;28;01mimport\u001b[39;00m \u001b[38;5;21;01mnumpy\u001b[39;00m \u001b[38;5;28;01mas\u001b[39;00m \u001b[38;5;21;01mnp\u001b[39;00m\n\u001b[1;32m----> 2\u001b[0m \u001b[38;5;28;01mfrom\u001b[39;00m \u001b[38;5;21;01mripser\u001b[39;00m \u001b[38;5;28;01mimport\u001b[39;00m ripser\n\u001b[0;32m      4\u001b[0m \u001b[38;5;28;01mdef\u001b[39;00m \u001b[38;5;21mVR_simplicial_complex\u001b[39m(distance_matrix, r):\n\u001b[0;32m      5\u001b[0m     \u001b[38;5;124;03m\"\"\"\u001b[39;00m\n\u001b[0;32m      6\u001b[0m \u001b[38;5;124;03m    Computes the vertex set, edge set, and triangle set of a 2-dimensional Vietoris-Rips complex from a distance matrix.\u001b[39;00m\n\u001b[0;32m      7\u001b[0m \n\u001b[1;32m   (...)\u001b[0m\n\u001b[0;32m     22\u001b[0m \u001b[38;5;124;03m        A set containing the indices of the triangles in the complex, represented as triples of vertices.\u001b[39;00m\n\u001b[0;32m     23\u001b[0m \u001b[38;5;124;03m    \"\"\"\u001b[39;00m\n",
      "\u001b[1;31mModuleNotFoundError\u001b[0m: No module named 'ripser'"
     ]
    }
   ],
   "source": [
    "import numpy as np\n",
    "from ripser import ripser\n",
    "\n",
    "def VR_simplicial_complex(distance_matrix, r):\n",
    "    \"\"\"\n",
    "    Computes the vertex set, edge set, and triangle set of a 2-dimensional Vietoris-Rips complex from a distance matrix.\n",
    "\n",
    "    Parameters\n",
    "    ----------\n",
    "    distance_matrix : ndarray\n",
    "        The pairwise distance matrix between points.\n",
    "    r : float\n",
    "        The parameter for constructing edges in the complex.\n",
    "\n",
    "    Returns\n",
    "    -------\n",
    "    vertex_set : set\n",
    "        A set containing the indices of the vertices in the complex.\n",
    "    edge_set : set\n",
    "        A set containing the indices of the edges in the complex, represented as pairs of vertices.\n",
    "    triangle_set : set\n",
    "        A set containing the indices of the triangles in the complex, represented as triples of vertices.\n",
    "    \"\"\"\n",
    "    \n",
    "    # Create empty sets for vertices, edges, and triangles\n",
    "    n = distance_matrix.shape[0]\n",
    "    vertex_set = set(range(n))\n",
    "    edge_set = set()\n",
    "    triangle_set = set()\n",
    "    \n",
    "    # Add edges and triangles to the complex\n",
    "    for i in range(n):\n",
    "        for j in range(i + 1, n):\n",
    "            if distance_matrix[i, j] <= r:\n",
    "                edge_set.add(frozenset([i, j]))\n",
    "                for k in range(j + 1, n):\n",
    "                    if (distance_matrix[i, k] <= r) and (distance_matrix[j, k] <= r):\n",
    "                        triangle_set.add(frozenset([i, j, k]))\n",
    "\n",
    "    return vertex_set, edge_set, triangle_set\n",
    "\n"
   ]
  },
  {
   "cell_type": "code",
   "execution_count": 6,
   "metadata": {},
   "outputs": [
    {
     "name": "stdout",
     "output_type": "stream",
     "text": [
      "The Vietoris-Rips complex at scale 1:\n"
     ]
    },
    {
     "ename": "NameError",
     "evalue": "name 'VR_simplicial_complex' is not defined",
     "output_type": "error",
     "traceback": [
      "\u001b[1;31m---------------------------------------------------------------------------\u001b[0m",
      "\u001b[1;31mNameError\u001b[0m                                 Traceback (most recent call last)",
      "Cell \u001b[1;32mIn[6], line 7\u001b[0m\n\u001b[0;32m      3\u001b[0m \u001b[38;5;28;01mfor\u001b[39;00m r \u001b[38;5;129;01min\u001b[39;00m \u001b[38;5;28mrange\u001b[39m(\u001b[38;5;241m1\u001b[39m,\u001b[38;5;241m5\u001b[39m):\n\u001b[0;32m      4\u001b[0m \n\u001b[0;32m      5\u001b[0m     \u001b[38;5;66;03m# Compute the 2 skeleton of Vietoris-Rips complex at scale r\u001b[39;00m\n\u001b[0;32m      6\u001b[0m     \u001b[38;5;28mprint\u001b[39m(\u001b[38;5;124m\"\u001b[39m\u001b[38;5;124mThe Vietoris-Rips complex at scale \u001b[39m\u001b[38;5;124m\"\u001b[39m \u001b[38;5;241m+\u001b[39m\u001b[38;5;28mstr\u001b[39m(r)\u001b[38;5;241m+\u001b[39m\u001b[38;5;124m\"\u001b[39m\u001b[38;5;124m:\u001b[39m\u001b[38;5;124m\"\u001b[39m) \n\u001b[1;32m----> 7\u001b[0m     vertex_set, edge_set, triangle_set\u001b[38;5;241m=\u001b[39m \u001b[43mVR_simplicial_complex\u001b[49m(D, r\u001b[38;5;241m=\u001b[39m\u001b[38;5;241m5\u001b[39m)\n\u001b[0;32m      9\u001b[0m \u001b[38;5;66;03m#Print the vertex set, edge set, and triangle set (as a list of sets)\u001b[39;00m\n\u001b[0;32m     10\u001b[0m     \u001b[38;5;28mprint\u001b[39m()\n",
      "\u001b[1;31mNameError\u001b[0m: name 'VR_simplicial_complex' is not defined"
     ]
    }
   ],
   "source": [
    "# Example usage: \n",
    "\n",
    "for r in range(1,5):\n",
    "\n",
    "    # Compute the 2 skeleton of Vietoris-Rips complex at scale r\n",
    "    print(\"The Vietoris-Rips complex at scale \" +str(r)+\":\") \n",
    "    vertex_set, edge_set, triangle_set= VR_simplicial_complex(D, r=5)\n",
    "\n",
    "#Print the vertex set, edge set, and triangle set (as a list of sets)\n",
    "    print()\n",
    "    print(\"Vertex set:\", [{s} for s in vertex_set])\n",
    "    print(\"Edge set:\", [set(s) for s in edge_set])\n",
    "    print(\"2-faces set:\", [set(s) for s in triangle_set])\n",
    "    print(\"***\"*20)\n",
    "    print()"
   ]
  },
  {
   "cell_type": "markdown",
   "metadata": {},
   "source": [
    "# Visualizing simplicial complexes 1 (1-D simplicial Complexes)\n",
    "\n",
    "We can also plot our complex (up to 2 faces cause we are limitted to 3D). The following function takes in a distance matrix and a non-negative number r plot the underlying graph of a the corsponded Rips complex. "
   ]
  },
  {
   "cell_type": "code",
   "execution_count": 14,
   "metadata": {},
   "outputs": [],
   "source": [
    "#Plotting the underlying graph of a simplicial complex also known as 1-skeleton\n",
    "\n",
    "import networkx as nx\n",
    "\n",
    "def create_simplicial_complex(D,r):\n",
    "    \"\"\"\n",
    "    Input: distance matrix and nonnegative radius\n",
    "    Output: networkx graph \n",
    "    \"\"\"\n",
    "    \n",
    "    G = nx.Graph()\n",
    "    G.add_nodes_from(list(range(len(D))))\n",
    "    edge_list = np.argwhere(D <= r) \n",
    "    G.add_edges_from(edge_list)\n",
    "    \n",
    "    # Remove self-loops\n",
    "    G.remove_edges_from(nx.selfloop_edges(G))\n",
    "    \n",
    "    return G"
   ]
  },
  {
   "cell_type": "markdown",
   "metadata": {},
   "source": [
    "Lets try this function and plot the graph of our simplicial complex."
   ]
  },
  {
   "cell_type": "code",
   "execution_count": 15,
   "metadata": {},
   "outputs": [
    {
     "data": {
      "image/png": "[encoded data removed]",
      "text/plain": [
       "<Figure size 360x360 with 1 Axes>"
      ]
     },
     "metadata": {},
     "output_type": "display_data"
    }
   ],
   "source": [
    "#Plot the 1-skeleton of our simplicial complex at some scale. We need matplotlib.pyplot to do so:\n",
    "\n",
    "import matplotlib.pyplot as plt\n",
    "\n",
    "r = 2\n",
    "G = create_simplicial_complex(D,r)\n",
    "\n",
    "\n",
    "plt.figure(figsize = (5,5))\n",
    "nx.draw_networkx(G, pos= nx.circular_layout(G), with_labels = False, node_size = 100)# you can play with pose to get different representations\n",
    "        \n",
    "plt.axis('equal')\n",
    "plt.show()"
   ]
  },
  {
   "cell_type": "markdown",
   "metadata": {},
   "source": [
    "We can also vary the parameter r and plot a filtration:"
   ]
  },
  {
   "cell_type": "code",
   "execution_count": 16,
   "metadata": {},
   "outputs": [
    {
     "data": {
      "image/png": "[encoded data removed]",
      "text/plain": [
       "<Figure size 1440x1440 with 4 Axes>"
      ]
     },
     "metadata": {},
     "output_type": "display_data"
    }
   ],
   "source": [
    "#plot a filtered Rips Complex\n",
    "\n",
    "rs = [0,1, 1.2, 2] # list of scales\n",
    "\n",
    "plt.figure(figsize = (20,20))\n",
    "\n",
    "for (j,r) in enumerate(rs):\n",
    "    G = create_simplicial_complex(D,r)\n",
    "    plt.subplot(3,3,j+1)\n",
    "    nx.draw_networkx(G, pos= nx.circular_layout(G), with_labels = False,node_size = 50)\n",
    "    plt.axis('equal')\n",
    "    plt.title('Radius = '+str(r))\n",
    "\n",
    "plt.show()"
   ]
  },
  {
   "cell_type": "markdown",
   "metadata": {},
   "source": [
    "# Plotting 2D-Simplicial Complex\n",
    "\n",
    "Lets move on to the higher dimension. To do so we will creat a list of 2-faces and add them one-by one to our graph. The function in the next cell returns a list of 2-faces of a simplicial complex (compare it with what we did in cell 90). "
   ]
  },
  {
   "cell_type": "code",
   "execution_count": 17,
   "metadata": {},
   "outputs": [],
   "source": [
    "def create_2_dim_simplicial_complex(D,r):\n",
    "    \n",
    "    # Create 1-skeleton\n",
    "    G = create_simplicial_complex(D,r)\n",
    "    \n",
    "    # Get a list of 2-simplices\n",
    "    two_spx_list = []\n",
    "    \n",
    "    # Naive search for viable 2-simplices\n",
    "    for edge in G.edges():\n",
    "        for vertex in G.nodes():\n",
    "            if vertex != edge[0] and vertex != edge[1] and D[edge[0],vertex] < r and D[edge[1],vertex] < r:\n",
    "                two_spx_list.append([edge[0],edge[1],vertex])\n",
    "                \n",
    "    return G, two_spx_list"
   ]
  },
  {
   "cell_type": "markdown",
   "metadata": {},
   "source": [
    "Lets apply the fuction to our distance matrix:"
   ]
  },
  {
   "cell_type": "code",
   "execution_count": 18,
   "metadata": {},
   "outputs": [
    {
     "data": {
      "text/plain": [
       "[[0, 1, 2],\n",
       " [0, 1, 3],\n",
       " [0, 2, 1],\n",
       " [0, 2, 3],\n",
       " [0, 3, 1],\n",
       " [0, 3, 2],\n",
       " [1, 2, 0],\n",
       " [1, 2, 3],\n",
       " [1, 3, 0],\n",
       " [1, 3, 2],\n",
       " [2, 3, 0],\n",
       " [2, 3, 1]]"
      ]
     },
     "execution_count": 18,
     "metadata": {},
     "output_type": "execute_result"
    }
   ],
   "source": [
    "G, two_spx_list = create_2_dim_simplicial_complex(D,5)\n",
    "two_spx_list"
   ]
  },
  {
   "cell_type": "markdown",
   "metadata": {},
   "source": [
    "To draw the simplices, we'll use the `Polygon` function imported above. We'll add the triangles one-by-one to a collection, then use plotting tools to display them."
   ]
  },
  {
   "cell_type": "code",
   "execution_count": 20,
   "metadata": {},
   "outputs": [],
   "source": [
    "patches = []\n",
    "pos= nx.circular_layout(G)\n",
    "for i,spx in enumerate(two_spx_list):\n",
    "    position_array = np.array([[pos[vert][0],pos[vert][1]] for vert in spx])\n",
    "    polygon = Polygon(position_array, True)\n",
    "    patches.append(polygon)"
   ]
  },
  {
   "cell_type": "code",
   "execution_count": 21,
   "metadata": {},
   "outputs": [
    {
     "data": {
      "image/png": "[encoded data removed]",
      "text/plain": [
       "<Figure size 504x504 with 1 Axes>"
      ]
     },
     "metadata": {
      "needs_background": "light"
     },
     "output_type": "display_data"
    }
   ],
   "source": [
    "fig, ax = plt.subplots(figsize = (7,7))\n",
    "#pos = {n:X[n,:] for n in range(len(X))}\n",
    "colors = 100*np.random.rand(len(patches))\n",
    "p = PatchCollection(patches, alpha=0.1)\n",
    "p.set_array(np.array(colors))\n",
    "ax.add_collection(p)\n",
    "\n",
    "plt.xlim([-1.25, 1.5])\n",
    "plt.ylim([-1.25, 1.5])\n",
    "plt.show()"
   ]
  },
  {
   "cell_type": "markdown",
   "metadata": {},
   "source": [
    "Now we'll plot the 1-skeleton first and overlay the triangles."
   ]
  },
  {
   "cell_type": "code",
   "execution_count": 23,
   "metadata": {},
   "outputs": [
    {
     "data": {
      "image/png": "[encoded data removed]",
      "text/plain": [
       "<Figure size 504x504 with 1 Axes>"
      ]
     },
     "metadata": {},
     "output_type": "display_data"
    }
   ],
   "source": [
    "fig, ax = plt.subplots(figsize = (7,7))\n",
    "#pos= nx.circular_layout(G)\n",
    "pos= nx.circular_layout(G)\n",
    "\n",
    "nx.draw_networkx(G, pos = pos, with_labels = False,node_size = 50)\n",
    "colors = 100*np.random.rand(len(patches))\n",
    "p = PatchCollection(patches, alpha=0.05)\n",
    "p.set_array(np.array(colors))\n",
    "ax.add_collection(p)\n",
    "\n",
    "plt.axis('equal')\n",
    "plt.show()"
   ]
  },
  {
   "cell_type": "markdown",
   "metadata": {},
   "source": [
    "Looks good! Now let's run it on a range of radii."
   ]
  },
  {
   "cell_type": "code",
   "execution_count": 25,
   "metadata": {},
   "outputs": [
    {
     "data": {
      "image/png": "[encoded data removed]",
      "text/plain": [
       "<Figure size 1440x1440 with 5 Axes>"
      ]
     },
     "metadata": {},
     "output_type": "display_data"
    }
   ],
   "source": [
    "rs = [0,1,1.3,1,5]\n",
    "pos= nx.circular_layout(G)\n",
    "\n",
    "plt.figure(figsize = (20,20))\n",
    "\n",
    "for (j,r) in enumerate(rs):\n",
    "    G, two_spx_list = create_2_dim_simplicial_complex(D,r)\n",
    "    patches = []\n",
    "\n",
    "    for i,spx in enumerate(two_spx_list):\n",
    "        position_array = np.array([[pos[vert][0],pos[vert][1]] for vert in spx])\n",
    "        polygon = Polygon(position_array, True)\n",
    "        patches.append(polygon)\n",
    "        \n",
    "    ax = plt.subplot(3,3,j+1)\n",
    "    nx.draw_networkx(G, pos = pos, with_labels = False,node_size = 30)\n",
    "    colors = 100*np.random.rand(len(patches))\n",
    "    p = PatchCollection(patches, alpha=0.05)\n",
    "    p.set_array(np.array(colors))\n",
    "    ax.add_collection(p)\n",
    "    \n",
    "    plt.axis('equal')\n",
    "    plt.title('Radius = '+str(r))\n",
    "\n",
    "plt.show()"
   ]
  },
  {
   "cell_type": "markdown",
   "metadata": {},
   "source": [
    "# Now its your turn:\n",
    "    "
   ]
  },
  {
   "cell_type": "markdown",
   "metadata": {},
   "source": [
    "# Example 2:\n",
    "\n",
    "Consider the following noisy circle in $\\mathbb{R}^2$. \n",
    "\n",
    "\n",
    "\n",
    "(1)Print the Vietoris-Rips complexes at $r=0, r= 0.1, r=0.3$.\n",
    "\n",
    "(2) Plot the 1-skeleta of the Vietoris-Rips complexes for $r\\in [0,0.1,0.2,0.3,0.4,0.5,0.6,0.9,1]$.\n",
    "\n",
    "(3) Plot the 2-skeleta of the Vietoris-Rips complexes for $r\\in [0,0.1,0.2,0.3,0.4,0.5,0.6,0.9,1]$.\n",
    "\n",
    "(4) Plot the 1-skeleton first and overlay the triangles for $r\\in [0,0.1,0.2,0.3,0.4,0.5,0.6,0.9,1]$.\n"
   ]
  },
  {
   "cell_type": "code",
   "execution_count": 26,
   "metadata": {
    "scrolled": true
   },
   "outputs": [
    {
     "data": {
      "image/png": "[encoded data removed]",
      "text/plain": [
       "<Figure size 432x288 with 1 Axes>"
      ]
     },
     "metadata": {
      "needs_background": "light"
     },
     "output_type": "display_data"
    }
   ],
   "source": [
    "# creating a noisy circle\n",
    "\n",
    "num_points = 50\n",
    "mean=[0,0]\n",
    "cov= np.array([[1,0],[0,1]]) # diagonal covariance\n",
    "\n",
    "X = np.random.multivariate_normal(mean, cov, size = num_points) #Draw random samples from a multivariate normal distribution.\n",
    "\n",
    "X = X.T/np.linalg.norm(X,axis = 1) # Normalizing X \n",
    "\n",
    "X = X.T + 0.5*np.random.rand(num_points,2)\n",
    "\n",
    "plt.plot(X[:,0],X[:,1],'o')\n",
    "plt.axis('equal')\n",
    "plt.show()"
   ]
  },
  {
   "cell_type": "code",
   "execution_count": 27,
   "metadata": {},
   "outputs": [
    {
     "name": "stdout",
     "output_type": "stream",
     "text": [
      "[[0.         1.71229147 1.02833797 ... 1.25516109 0.60045014 0.63368439]\n",
      " [1.71229147 0.         1.87740177 ... 0.8533365  1.63640135 2.11498233]\n",
      " [1.02833797 1.87740177 0.         ... 1.88481076 1.59293979 0.6707975 ]\n",
      " ...\n",
      " [1.25516109 0.8533365  1.88481076 ... 0.         0.92439701 1.8320609 ]\n",
      " [0.60045014 1.63640135 1.59293979 ... 0.92439701 0.         1.22456314]\n",
      " [0.63368439 2.11498233 0.6707975  ... 1.8320609  1.22456314 0.        ]]\n"
     ]
    },
    {
     "data": {
      "image/png": "[encoded data removed]",
      "text/plain": [
       "<Figure size 432x288 with 1 Axes>"
      ]
     },
     "metadata": {
      "needs_background": "light"
     },
     "output_type": "display_data"
    }
   ],
   "source": [
    "# creating the distance matrix of X:\n",
    "\n",
    "from sklearn.metrics import pairwise_distances\n",
    "\n",
    "D = pairwise_distances(X)\n",
    "print(D)\n",
    "\n",
    "plt.imshow(D)\n",
    "plt.show()"
   ]
  },
  {
   "cell_type": "code",
   "execution_count": 2,
   "metadata": {},
   "outputs": [
    {
     "ename": "NameError",
     "evalue": "name 'VR_simplicial_complex' is not defined",
     "output_type": "error",
     "traceback": [
      "\u001b[1;31m---------------------------------------------------------------------------\u001b[0m",
      "\u001b[1;31mNameError\u001b[0m                                 Traceback (most recent call last)",
      "Cell \u001b[1;32mIn[2], line 5\u001b[0m\n\u001b[0;32m      3\u001b[0m rs \u001b[38;5;241m=\u001b[39m [\u001b[38;5;241m0\u001b[39m, \u001b[38;5;241m0.1\u001b[39m, \u001b[38;5;241m0.3\u001b[39m]\n\u001b[0;32m      4\u001b[0m \u001b[38;5;28;01mfor\u001b[39;00m r \u001b[38;5;129;01min\u001b[39;00m rs:\n\u001b[1;32m----> 5\u001b[0m     vr \u001b[38;5;241m=\u001b[39m \u001b[43mVR_simplicial_complex\u001b[49m(D, r)\n\u001b[0;32m      6\u001b[0m     \u001b[38;5;28mprint\u001b[39m(vr)\n",
      "\u001b[1;31mNameError\u001b[0m: name 'VR_simplicial_complex' is not defined"
     ]
    }
   ],
   "source": [
    "# (1) Print the Vietoris-Rips complexes at  𝑟=0,𝑟=0.1,𝑟=0.3.\n",
    "\n",
    "rs = [0, 0.1, 0.3]\n",
    "for r in rs:\n",
    "    vr = VR_simplicial_complex(D, r)\n",
    "    print(vr)"
   ]
  },
  {
   "cell_type": "code",
   "execution_count": null,
   "metadata": {},
   "outputs": [],
   "source": [
    "#(2) Plot the 1-skeleta of the Vietoris-Rips complexes for  𝑟∈[0,0.1,0.2,0.3,0.4,0.5,0.6,0.9,1]"
   ]
  },
  {
   "cell_type": "code",
   "execution_count": null,
   "metadata": {},
   "outputs": [],
   "source": [
    "#(3) Plot the 2-skeleta of the Vietoris-Rips complexes for  𝑟∈[0,0.1,0.2,0.3,0.4,0.5,0.6,0.9,1]"
   ]
  },
  {
   "cell_type": "code",
   "execution_count": null,
   "metadata": {},
   "outputs": [],
   "source": []
  },
  {
   "cell_type": "markdown",
   "metadata": {},
   "source": [
    "\n",
    "# Exercise 2:\n",
    "\n",
    "The edit distance is a way of quantifying how dissimilar two words are to one another by counting the minimum number of operations required to transform one string into the other.\n",
    "\n",
    "You can install via pip:\n",
    "\n"
   ]
  },
  {
   "cell_type": "code",
   "execution_count": 125,
   "metadata": {},
   "outputs": [
    {
     "name": "stdout",
     "output_type": "stream",
     "text": [
      "Requirement already satisfied: editdistance in /Users/soheyl/opt/anaconda3/lib/python3.8/site-packages (0.6.2)\n",
      "Note: you may need to restart the kernel to use updated packages.\n"
     ]
    }
   ],
   "source": [
    "pip install editdistance"
   ]
  },
  {
   "cell_type": "markdown",
   "metadata": {},
   "source": [
    "Lets see how we can compute the edit distance between two words:"
   ]
  },
  {
   "cell_type": "code",
   "execution_count": 126,
   "metadata": {},
   "outputs": [
    {
     "name": "stdout",
     "output_type": "stream",
     "text": [
      "The edit distance between Soheil and Aditya is 6\n"
     ]
    }
   ],
   "source": [
    "import editdistance\n",
    "\n",
    "x= editdistance.eval('Soheil', 'Aditya')\n",
    "\n",
    "print('The edit distance between Soheil and Aditya is', x)"
   ]
  },
  {
   "cell_type": "markdown",
   "metadata": {},
   "source": [
    "Here is the list of names in our class (feel free to change if you see any mistakes). Compute the edit distance between all pairs of names and store in a matrix. Then create "
   ]
  },
  {
   "cell_type": "code",
   "execution_count": 127,
   "metadata": {},
   "outputs": [],
   "source": [
    "names = ['Soheil','Aditya', 'Tomas', 'Ethan', 'Sarah', 'Alex', 'Jared', 'Tianbo', 'Angel', 'Kathy', 'Emily', 'Rachel','Rishabh', 'Lara', 'Oliver', 'Daniel']"
   ]
  },
  {
   "cell_type": "code",
   "execution_count": 128,
   "metadata": {},
   "outputs": [],
   "source": [
    "# Compute the distance between all pair of names and store the results in a matrix.\n",
    "\n",
    "\n",
    "# Print and plot the matrix.\n"
   ]
  },
  {
   "cell_type": "code",
   "execution_count": 129,
   "metadata": {},
   "outputs": [],
   "source": [
    "# Construct the Vietoris-Rips complexes at  𝑟=1,r= 2, 𝑟= 3 and print it."
   ]
  },
  {
   "cell_type": "code",
   "execution_count": 130,
   "metadata": {},
   "outputs": [],
   "source": [
    "#(2)Plot the 1-skeleta of the Vietoris-Rips complexes for  r in [0,1,2,3,4,5,6]"
   ]
  },
  {
   "cell_type": "code",
   "execution_count": 131,
   "metadata": {},
   "outputs": [],
   "source": [
    "#(3) Plot the 2-skeleta of the Vietoris-Rips complexes for  r in [0,1,2,3,4,5,6]"
   ]
  },
  {
   "cell_type": "code",
   "execution_count": 132,
   "metadata": {},
   "outputs": [],
   "source": []
  },
  {
   "cell_type": "code",
   "execution_count": null,
   "metadata": {
    "scrolled": true
   },
   "outputs": [],
   "source": []
  },
  {
   "cell_type": "code",
   "execution_count": null,
   "metadata": {},
   "outputs": [],
   "source": []
  },
  {
   "cell_type": "code",
   "execution_count": null,
   "metadata": {},
   "outputs": [],
   "source": []
  }
 ],
 "metadata": {
  "kernelspec": {
   "display_name": "Python 3 (ipykernel)",
   "language": "python",
   "name": "python3"
  },
  "language_info": {
   "codemirror_mode": {
    "name": "ipython",
    "version": 3
   },
   "file_extension": ".py",
   "mimetype": "text/x-python",
   "name": "python",
   "nbconvert_exporter": "python",
   "pygments_lexer": "ipython3",
   "version": "3.9.12"
  }
 },
 "nbformat": 4,
 "nbformat_minor": 4
}
